{
 "cells": [
  {
   "attachments": {},
   "cell_type": "markdown",
   "metadata": {},
   "source": [
    "# Here we provide some documentation for important classes and methods in `drfsc`\n",
    "\n",
    "The main methods for the DRFSC class that users may interact with are: `set_rfsc_params`,\n",
    "`load_data`, `fit`, `predict`, `predict_proba`, `score`, `feature_importance`, `pos_neg_prediction`, `single_prediction`."
   ]
  },
  {
   "cell_type": "code",
   "execution_count": 1,
   "metadata": {},
   "outputs": [],
   "source": [
    "from src.drfsc import *"
   ]
  },
  {
   "cell_type": "code",
   "execution_count": 2,
   "metadata": {},
   "outputs": [
    {
     "name": "stdout",
     "output_type": "stream",
     "text": [
      "Help on function set_rfsc_params in module src.drfsc:\n",
      "\n",
      "set_rfsc_params(self, params: dict)\n",
      "    Setter for RFSC parameters. Updates the RFSC parameters with the given dictionary. Dictionary must be in the form of {parameter_name: parameter_value}.\n",
      "    \n",
      "    Parameters\n",
      "    ----------\n",
      "    n_models : int \n",
      "        Number of models generated per iteration. Default=300.\n",
      "    n_iters : int \n",
      "        Number of iterations. Default=150.\n",
      "    tuning : float \n",
      "        Learning rate that dictates the speed of regressor inclusion probability (rip) convergence. Smaller values -> slower convergence. Default=50.\n",
      "    tol : float \n",
      "        Tolerance condition. Default=0.002.\n",
      "    alpha : float \n",
      "        Significance level for model pruning. Default=0.99.\n",
      "    rip_cutoff : float \n",
      "        Determines rip threshold for feature inclusion in final model. Default=1.\n",
      "    metric : str\n",
      "        Optimization metric. Default='roc_auc'. Options: 'acc', 'roc_auc', 'weighted', 'avg_prec', 'f1', 'auprc'.\n",
      "    verbose : bool \n",
      "        Provides extra information. Defaults=False.\n",
      "    upweight : float \n",
      "        Upweights initial feature rips. Default=1.\n",
      "\n"
     ]
    }
   ],
   "source": [
    "help(DRFSC.set_rfsc_params)"
   ]
  },
  {
   "cell_type": "code",
   "execution_count": 3,
   "metadata": {},
   "outputs": [
    {
     "name": "stdout",
     "output_type": "stream",
     "text": [
      "Help on function load_data in module src.drfsc:\n",
      "\n",
      "load_data(self, X_train: numpy.ndarray, X_val: numpy.ndarray, Y_train: numpy.ndarray, Y_val: numpy.ndarray, X_test: numpy.ndarray = None, Y_test: numpy.ndarray = None, polynomial: int = 1, preprocess: bool = True)\n",
      "    Preprocesses the data in the required way for the DRFSC model. Can be used to load data into the model if it has not been loaded yet. Scales the data to [0,1] and creates polynomial expansion based on the passed 'polynomial' parameter. \n",
      "    \n",
      "    Parameters\n",
      "    ----------\n",
      "    X_train : np.ndarray or pd.DataFrame \n",
      "        Train set data\n",
      "    X_val : np.ndarray or pd.DataFrame\n",
      "        Validation set data\n",
      "    Y_train : np.ndarray or pd.DataFrame\n",
      "        Train set labels\n",
      "    Y_val : np.ndarray or pd.DataFrame\n",
      "        Validation set labels\n",
      "    X_test : np.ndarray or pd.DataFrame, optional\n",
      "        Test set data. Only required if postprocessing is required. Defaults to None.\n",
      "    Y_test : np.ndarray or pd.DataFrame optional\n",
      "        Test set labels. Only required if postprocessing is required. Defaults to None.\n",
      "    polynomial : int, optional\n",
      "        degree of polynomial features to use. Defaults to 1.\n",
      "    preprocess : bool, optional\n",
      "        If True, will scale-data, create dummies for categorical variables, and create polynomial features based on passed `polynomial` parameter. If False, will only convert data to numpy arrays. Defaults to True.\n",
      "    \n",
      "    Returns \n",
      "    -------\n",
      "    X_train, X_val, Y_train, Y_val, X_test, Y_test : np.ndarray\n",
      "        Preprocessed data and labels\n",
      "\n"
     ]
    }
   ],
   "source": [
    "help(DRFSC.load_data)"
   ]
  },
  {
   "cell_type": "code",
   "execution_count": 4,
   "metadata": {},
   "outputs": [
    {
     "name": "stdout",
     "output_type": "stream",
     "text": [
      "Help on function fit in module src.drfsc:\n",
      "\n",
      "fit(self, X_train: numpy.ndarray, X_val: numpy.ndarray, Y_train: numpy.ndarray, Y_val: numpy.ndarray)\n",
      "    The main function for fitting the model. Returns the a single final model if output == 'single', else returns a model ensemble based on the number of horizontal partitions (n_hbins).\n",
      "    \n",
      "    Parameters\n",
      "    ----------\n",
      "    X_train : np.ndarray or pd.DataFrame \n",
      "        Train set data\n",
      "    X_val : np.ndarray or pd.DataFrame\n",
      "        Validation set data\n",
      "    Y_train : np.ndarray or pd.DataFrame\n",
      "        Train set labels\n",
      "    Y_val : np.ndarray or pd.DataFrame\n",
      "        Validation set labels\n",
      "\n"
     ]
    }
   ],
   "source": [
    "help(DRFSC.fit)"
   ]
  },
  {
   "cell_type": "code",
   "execution_count": 5,
   "metadata": {},
   "outputs": [
    {
     "name": "stdout",
     "output_type": "stream",
     "text": [
      "Help on function predict in module src.drfsc:\n",
      "\n",
      "predict(self, X_test)\n",
      "    Uses the best model to predict on the test set\n",
      "    \n",
      "    Parameters\n",
      "    ----------\n",
      "    X_test : np.ndarray \n",
      "        Test set data\n",
      "    \n",
      "    Returns\n",
      "    ----------\n",
      "    np.ndarray containing the predicted labels\n",
      "\n"
     ]
    }
   ],
   "source": [
    "help(DRFSC.predict)"
   ]
  },
  {
   "cell_type": "code",
   "execution_count": 6,
   "metadata": {},
   "outputs": [
    {
     "name": "stdout",
     "output_type": "stream",
     "text": [
      "Help on function predict_proba in module src.drfsc:\n",
      "\n",
      "predict_proba(self, X_test: numpy.ndarray)\n",
      "    Uses the best model to predict on the test set, returns labels \n",
      "    \n",
      "    Parameters\n",
      "    ----------\n",
      "    X_test : np.ndarray \n",
      "        Test set data\n",
      "        \n",
      "    Returns\n",
      "    -------\n",
      "    np.ndarray containing the predicted probabilities\n",
      "\n"
     ]
    }
   ],
   "source": [
    "help(DRFSC.predict_proba)"
   ]
  },
  {
   "cell_type": "code",
   "execution_count": 7,
   "metadata": {},
   "outputs": [
    {
     "name": "stdout",
     "output_type": "stream",
     "text": [
      "Help on function score in module src.drfsc:\n",
      "\n",
      "score(self, X_test: numpy.ndarray, Y_test: numpy.ndarray, metric: str = None)\n",
      "    Used to evaluate the final model on the test set.\n",
      "    \n",
      "    Parameters\n",
      "    ----------\n",
      "    X_test : np.ndarray or pd.DataFrame\n",
      "        Test set data\n",
      "    Y_test : np.ndarray or pd.DataFrame or pd.Series\n",
      "        Test set labels\n",
      "    metric : str, optional\n",
      "        Metric to use for evaluation. By default uses the metric specified in the constructor. Other options: ('acc', 'roc_auc', 'weighted', 'avg_prec', 'f1', 'auprc').\n",
      "    \n",
      "    Returns\n",
      "    ----------\n",
      "    evaluation : dict\n",
      "        returns the score of the model based on the metric specified.\n",
      "\n"
     ]
    }
   ],
   "source": [
    "help(DRFSC.score)"
   ]
  },
  {
   "cell_type": "code",
   "execution_count": 8,
   "metadata": {},
   "outputs": [
    {
     "name": "stdout",
     "output_type": "stream",
     "text": [
      "Help on function feature_importance in module src.drfsc:\n",
      "\n",
      "feature_importance(self)\n",
      "    Creates a bar plot of the features of the model and their contribution to the final prediction.\n",
      "    \n",
      "    Returns\n",
      "    -------\n",
      "    figure : matplotlib figure\n",
      "        hisogram of feature coefficients for features of the final model.\n",
      "\n"
     ]
    }
   ],
   "source": [
    "help(DRFSC.feature_importance)"
   ]
  },
  {
   "cell_type": "code",
   "execution_count": 9,
   "metadata": {},
   "outputs": [
    {
     "name": "stdout",
     "output_type": "stream",
     "text": [
      "Help on function pos_neg_prediction in module src.drfsc:\n",
      "\n",
      "pos_neg_prediction(self, data_index: int = 0, X_test: numpy.ndarray = None)\n",
      "    Creates a plot of the positive and negative parts of the prediction.\n",
      "    \n",
      "    Parameters\n",
      "    ----------\n",
      "    data_index : int\n",
      "        Index of the data observation to be plotted. If X_test is not provided, then the index is relative to the provided training/validation data. If X_test is provided, then the index is relative to the provided test data. Default is 0.\n",
      "    X_test : np.array or pd.DataFrame\n",
      "        Test data to be used for prediction. If provided, then the index is relative to the provided test data. Default is None.\n",
      "    \n",
      "    Returns\n",
      "    -------\n",
      "    figure : matplotlib figure\n",
      "        figure shows, for a given sample (indexed by data_index), the positive and negative parts of the prediction. That is, it takes the value of the coefficients and multiplies them by the feature values. The positive and negative parts of the prediction are then plotted.\n",
      "\n"
     ]
    }
   ],
   "source": [
    "help(DRFSC.pos_neg_prediction)"
   ]
  },
  {
   "cell_type": "code",
   "execution_count": 10,
   "metadata": {},
   "outputs": [
    {
     "name": "stdout",
     "output_type": "stream",
     "text": [
      "Help on function single_prediction in module src.drfsc:\n",
      "\n",
      "single_prediction(self, data_index: int = 0, X_test: numpy.ndarray = None)\n",
      "    Creates a plot of the single prediction of the final model\n",
      "    \n",
      "    Parameters\n",
      "    ----------\n",
      "    data_index : int\n",
      "        Index of the data observation to be plotted. If X_test is not provided, then the index is relative to the provided training/validation data. If X_test is provided, then the index is relative to the provided test data. Default is 0.\n",
      "    X_test : np.array or pd.DataFrame\n",
      "        Test data to be used for prediction. If provided, then the index is relative to the provided test data. Default is None.\n",
      "        \n",
      "    Returns\n",
      "    -------\n",
      "    figure : matplotlib figure\n",
      "        Shows for a given sample (indexed by data_index) the coefficients of the final model, weighted by the feature values for the indexed observation.\n",
      "\n"
     ]
    }
   ],
   "source": [
    "help(DRFSC.single_prediction)"
   ]
  }
 ],
 "metadata": {
  "kernelspec": {
   "display_name": "csiro_venv",
   "language": "python",
   "name": "python3"
  },
  "language_info": {
   "codemirror_mode": {
    "name": "ipython",
    "version": 3
   },
   "file_extension": ".py",
   "mimetype": "text/x-python",
   "name": "python",
   "nbconvert_exporter": "python",
   "pygments_lexer": "ipython3",
   "version": "3.9.12 (main, Apr  4 2022, 05:22:27) [MSC v.1916 64 bit (AMD64)]"
  },
  "orig_nbformat": 4,
  "vscode": {
   "interpreter": {
    "hash": "08540e772402c01cdc25f6c27caabd14e33b540cf68d4d829d01a4fc9caf9ad4"
   }
  }
 },
 "nbformat": 4,
 "nbformat_minor": 2
}
